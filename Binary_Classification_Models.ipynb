{
 "cells": [
  {
   "cell_type": "code",
   "execution_count": 63,
   "metadata": {
    "_cell_guid": "b1076dfc-b9ad-4769-8c92-a6c4dae69d19",
    "_uuid": "8f2839f25d086af736a60e9eeb907d3b93b6e0e5",
    "execution": {
     "iopub.execute_input": "2021-05-20T05:56:27.478787Z",
     "iopub.status.busy": "2021-05-20T05:56:27.478378Z",
     "iopub.status.idle": "2021-05-20T05:56:27.525536Z",
     "shell.execute_reply": "2021-05-20T05:56:27.524730Z",
     "shell.execute_reply.started": "2021-05-20T05:56:27.478748Z"
    }
   },
   "outputs": [],
   "source": [
    "import numpy as np \n",
    "import pandas as pd \n",
    "import os\n",
    "\n",
    "for dirname, _, filenames in os.walk('/kaggle/input'):\n",
    "    for filename in filenames:\n",
    "      os.path.join(dirname, filename)"
   ]
  },
  {
   "cell_type": "code",
   "execution_count": 64,
   "metadata": {
    "_kg_hide-input": false,
    "execution": {
     "iopub.execute_input": "2021-05-20T05:56:30.396703Z",
     "iopub.status.busy": "2021-05-20T05:56:30.396397Z",
     "iopub.status.idle": "2021-05-20T05:56:30.405788Z",
     "shell.execute_reply": "2021-05-20T05:56:30.404867Z",
     "shell.execute_reply.started": "2021-05-20T05:56:30.396673Z"
    }
   },
   "outputs": [],
   "source": [
    "import matplotlib.pyplot as plt\n",
    "import tensorflow as tf\n",
    "from PIL import Image\n",
    "import os\n",
    "import warnings\n",
    "warnings.filterwarnings('ignore')\n",
    "import PIL\n",
    "import numpy as np\n",
    "import random\n",
    "from tensorflow import keras\n",
    "from tensorflow.keras import preprocessing\n",
    "from sklearn.preprocessing import LabelEncoder\n",
    "from tensorflow.keras.utils import to_categorical\n",
    "from sklearn.model_selection import train_test_split\n",
    "from keras.preprocessing.image import ImageDataGenerator\n",
    "from tensorflow.keras.models import Sequential\n",
    "from tensorflow.keras.layers import Dense, Conv2D, MaxPooling2D, Dropout,Flatten,Activation\n",
    "from keras.utils import plot_model\n",
    "from sklearn.preprocessing import OneHotEncoder\n",
    "from keras.callbacks import ModelCheckpoint, EarlyStopping\n",
    "from keras.layers import BatchNormalization\n",
    "from keras.models import load_model\n",
    "import cv2\n",
    "from keras.wrappers.scikit_learn import KerasClassifier\n",
    "from keras.layers import Input\n",
    "from tensorflow.keras.optimizers import Adam\n",
    "import shutil\n",
    "import glob\n",
    "import random"
   ]
  },
  {
   "cell_type": "code",
   "execution_count": 85,
   "metadata": {
    "execution": {
     "iopub.execute_input": "2021-05-20T06:02:51.390576Z",
     "iopub.status.busy": "2021-05-20T06:02:51.390248Z",
     "iopub.status.idle": "2021-05-20T06:02:51.395660Z",
     "shell.execute_reply": "2021-05-20T06:02:51.394696Z",
     "shell.execute_reply.started": "2021-05-20T06:02:51.390543Z"
    }
   },
   "outputs": [],
   "source": [
    "path = (r'/kaggle/input/brain-tumor-classification-mri/Training/')\n",
    "glioma_dir= os.path.join(path,'glioma_tumor')\n",
    "meningioma_dir= os.path.join(path,'meningioma_tumor')\n",
    "pituitary_dir= os.path.join(path,'pituitary_tumor')\n",
    "no_tumor_dir=os.path.join(path,'no_tumor')"
   ]
  },
  {
   "cell_type": "code",
   "execution_count": 86,
   "metadata": {
    "execution": {
     "iopub.execute_input": "2021-05-20T06:02:52.904293Z",
     "iopub.status.busy": "2021-05-20T06:02:52.903902Z",
     "iopub.status.idle": "2021-05-20T06:02:52.908641Z",
     "shell.execute_reply": "2021-05-20T06:02:52.907320Z",
     "shell.execute_reply.started": "2021-05-20T06:02:52.904259Z"
    }
   },
   "outputs": [],
   "source": [
    "os.chdir(\"/kaggle/working/\")"
   ]
  },
  {
   "cell_type": "code",
   "execution_count": 88,
   "metadata": {
    "execution": {
     "iopub.execute_input": "2021-05-20T06:02:59.465239Z",
     "iopub.status.busy": "2021-05-20T06:02:59.464868Z",
     "iopub.status.idle": "2021-05-20T06:02:59.470701Z",
     "shell.execute_reply": "2021-05-20T06:02:59.469817Z",
     "shell.execute_reply.started": "2021-05-20T06:02:59.465203Z"
    }
   },
   "outputs": [],
   "source": [
    "os.makedirs('Bin/glioma/glioma')\n",
    "os.makedirs('Bin/glioma/non_glioma')\n",
    "os.makedirs('Bin/meningioma/meningioma')\n",
    "os.makedirs('Bin/meningioma/non_meningioma')\n",
    "os.makedirs('Bin/pituitary/pituitary')\n",
    "os.makedirs('Bin/pituitary/non_pituitary')"
   ]
  },
  {
   "cell_type": "markdown",
   "metadata": {},
   "source": [
    "# **MENINGIOMA BINARY DATA SET**"
   ]
  },
  {
   "cell_type": "markdown",
   "metadata": {},
   "source": [
    "## **CREATING MENINGIOMA BINARY DATA SET**"
   ]
  },
  {
   "cell_type": "code",
   "execution_count": 89,
   "metadata": {
    "execution": {
     "iopub.execute_input": "2021-05-20T06:03:03.565185Z",
     "iopub.status.busy": "2021-05-20T06:03:03.564832Z",
     "iopub.status.idle": "2021-05-20T06:03:03.576399Z",
     "shell.execute_reply": "2021-05-20T06:03:03.568539Z",
     "shell.execute_reply.started": "2021-05-20T06:03:03.565155Z"
    }
   },
   "outputs": [],
   "source": [
    "path_meningioma = '/kaggle/working/Bin/meningioma'"
   ]
  },
  {
   "cell_type": "code",
   "execution_count": 90,
   "metadata": {
    "execution": {
     "iopub.execute_input": "2021-05-20T06:03:08.280622Z",
     "iopub.status.busy": "2021-05-20T06:03:08.280314Z",
     "iopub.status.idle": "2021-05-20T06:03:08.286880Z",
     "shell.execute_reply": "2021-05-20T06:03:08.285818Z",
     "shell.execute_reply.started": "2021-05-20T06:03:08.280592Z"
    }
   },
   "outputs": [
    {
     "data": {
      "text/plain": [
       "['meningioma', 'non_meningioma']"
      ]
     },
     "execution_count": 90,
     "metadata": {},
     "output_type": "execute_result"
    }
   ],
   "source": [
    "os.listdir(path_meningioma)"
   ]
  },
  {
   "cell_type": "code",
   "execution_count": 91,
   "metadata": {
    "execution": {
     "iopub.execute_input": "2021-05-20T06:03:13.227534Z",
     "iopub.status.busy": "2021-05-20T06:03:13.227194Z",
     "iopub.status.idle": "2021-05-20T06:03:13.594026Z",
     "shell.execute_reply": "2021-05-20T06:03:13.593170Z",
     "shell.execute_reply.started": "2021-05-20T06:03:13.227501Z"
    }
   },
   "outputs": [],
   "source": [
    "for c in random.sample(os.listdir(glioma_dir),411):\n",
    "    c_path= os.path.join(glioma_dir,c)\n",
    "    shutil.copy(c_path, os.path.join(path_meningioma,'non_meningioma'))"
   ]
  },
  {
   "cell_type": "code",
   "execution_count": 92,
   "metadata": {
    "execution": {
     "iopub.execute_input": "2021-05-20T06:03:22.107516Z",
     "iopub.status.busy": "2021-05-20T06:03:22.107189Z",
     "iopub.status.idle": "2021-05-20T06:03:22.507146Z",
     "shell.execute_reply": "2021-05-20T06:03:22.506322Z",
     "shell.execute_reply.started": "2021-05-20T06:03:22.107483Z"
    }
   },
   "outputs": [],
   "source": [
    "for p in random.sample(os.listdir(pituitary_dir),411):\n",
    "    p_path= os.path.join(pituitary_dir,p)\n",
    "    shutil.copy(p_path,os.path.join(path_meningioma,'non_meningioma'))"
   ]
  },
  {
   "cell_type": "code",
   "execution_count": 93,
   "metadata": {
    "execution": {
     "iopub.execute_input": "2021-05-20T06:03:37.979203Z",
     "iopub.status.busy": "2021-05-20T06:03:37.978837Z",
     "iopub.status.idle": "2021-05-20T06:03:37.985838Z",
     "shell.execute_reply": "2021-05-20T06:03:37.984814Z",
     "shell.execute_reply.started": "2021-05-20T06:03:37.979171Z"
    }
   },
   "outputs": [
    {
     "data": {
      "text/plain": [
       "822"
      ]
     },
     "execution_count": 93,
     "metadata": {},
     "output_type": "execute_result"
    }
   ],
   "source": [
    "len(os.listdir(os.path.join(path_meningioma,'non_meningioma')))"
   ]
  },
  {
   "cell_type": "code",
   "execution_count": 94,
   "metadata": {
    "execution": {
     "iopub.execute_input": "2021-05-20T06:03:42.672883Z",
     "iopub.status.busy": "2021-05-20T06:03:42.672558Z",
     "iopub.status.idle": "2021-05-20T06:03:43.440678Z",
     "shell.execute_reply": "2021-05-20T06:03:43.439812Z",
     "shell.execute_reply.started": "2021-05-20T06:03:42.672853Z"
    }
   },
   "outputs": [],
   "source": [
    "for m in os.listdir(meningioma_dir):\n",
    "    m_path= os.path.join(meningioma_dir,m)\n",
    "    shutil.copy(m_path, os.path.join(path_meningioma,'meningioma'))"
   ]
  },
  {
   "cell_type": "code",
   "execution_count": 95,
   "metadata": {
    "execution": {
     "iopub.execute_input": "2021-05-20T06:03:49.819671Z",
     "iopub.status.busy": "2021-05-20T06:03:49.819339Z",
     "iopub.status.idle": "2021-05-20T06:03:49.826157Z",
     "shell.execute_reply": "2021-05-20T06:03:49.825225Z",
     "shell.execute_reply.started": "2021-05-20T06:03:49.819640Z"
    }
   },
   "outputs": [
    {
     "data": {
      "text/plain": [
       "822"
      ]
     },
     "execution_count": 95,
     "metadata": {},
     "output_type": "execute_result"
    }
   ],
   "source": [
    "len(os.listdir(os.path.join(path_meningioma,'meningioma')))"
   ]
  },
  {
   "cell_type": "code",
   "execution_count": 96,
   "metadata": {
    "execution": {
     "iopub.execute_input": "2021-05-20T06:03:54.045028Z",
     "iopub.status.busy": "2021-05-20T06:03:54.044672Z",
     "iopub.status.idle": "2021-05-20T06:03:56.084637Z",
     "shell.execute_reply": "2021-05-20T06:03:56.083730Z",
     "shell.execute_reply.started": "2021-05-20T06:03:54.044974Z"
    }
   },
   "outputs": [
    {
     "name": "stdout",
     "output_type": "stream",
     "text": [
      "(1644, 150, 150, 1)\n"
     ]
    }
   ],
   "source": [
    "path_m= path_meningioma\n",
    "image_size= 150\n",
    "X1=[]\n",
    "y1=[]\n",
    "for folder in os.listdir(path_m):\n",
    "    for subfolder in os.listdir(os.path.join(path_m,folder)):\n",
    "        y1.append(folder)\n",
    "        img = cv2.imread(os.path.join(path_m,folder,subfolder), cv2.IMREAD_GRAYSCALE)\n",
    "        im  = cv2.resize(img,(image_size,image_size))\n",
    "        im  = im/255.\n",
    "        #im.reshape(-1,image_size,image_size)\n",
    "        X1.append(im)\n",
    "#X_arr=np.array(X1).reshape(-1,image_size,image_size)\n",
    "X1=np.array(X1).reshape(-1,image_size,image_size,1)\n",
    "y_arr=np.array(y1)\n",
    "#X_arr=X_arr/255.\n",
    "#X1= X_arr\n",
    "print(X1.shape)\n",
    "enc=LabelEncoder()\n",
    "y1 = enc.fit_transform(y_arr)\n",
    "y1=to_categorical(y1,2)"
   ]
  },
  {
   "cell_type": "code",
   "execution_count": 97,
   "metadata": {
    "execution": {
     "iopub.execute_input": "2021-05-20T06:03:58.526480Z",
     "iopub.status.busy": "2021-05-20T06:03:58.526167Z",
     "iopub.status.idle": "2021-05-20T06:03:58.682403Z",
     "shell.execute_reply": "2021-05-20T06:03:58.681424Z",
     "shell.execute_reply.started": "2021-05-20T06:03:58.526449Z"
    }
   },
   "outputs": [
    {
     "data": {
      "text/plain": [
       "(1331, 150, 150, 1)"
      ]
     },
     "execution_count": 97,
     "metadata": {},
     "output_type": "execute_result"
    }
   ],
   "source": [
    "X1_train , X1_test, y1_train, y1_test = train_test_split(X1 , y1 , test_size = 0.1, random_state = 42)\n",
    "X1_train , X1_val, y1_train, y1_val = train_test_split(X1_train , y1_train , test_size = 0.1, random_state = 42)\n",
    "X1_train.shape"
   ]
  },
  {
   "cell_type": "markdown",
   "metadata": {},
   "source": [
    "## **BEST MODEL FOR MENINGIOMA BINARY DATA SET**"
   ]
  },
  {
   "cell_type": "code",
   "execution_count": 98,
   "metadata": {
    "execution": {
     "iopub.execute_input": "2021-05-20T06:04:06.619045Z",
     "iopub.status.busy": "2021-05-20T06:04:06.618701Z",
     "iopub.status.idle": "2021-05-20T06:04:06.680473Z",
     "shell.execute_reply": "2021-05-20T06:04:06.679732Z",
     "shell.execute_reply.started": "2021-05-20T06:04:06.619011Z"
    }
   },
   "outputs": [],
   "source": [
    "data_augmentation1 = ImageDataGenerator(shear_range = 0.1,\n",
    "                                       zoom_range = 0.2, \n",
    "                                       width_shift_range=0.10,\n",
    "                                       height_shift_range=0.10,\n",
    "                                       horizontal_flip = True,\n",
    "                                       rotation_range=20,\n",
    "                                       fill_mode='nearest')\n",
    "data_augmentation1.fit(X1_train)"
   ]
  },
  {
   "cell_type": "code",
   "execution_count": 99,
   "metadata": {
    "execution": {
     "iopub.execute_input": "2021-05-20T06:04:31.848349Z",
     "iopub.status.busy": "2021-05-20T06:04:31.848014Z",
     "iopub.status.idle": "2021-05-20T06:04:31.965630Z",
     "shell.execute_reply": "2021-05-20T06:04:31.964716Z",
     "shell.execute_reply.started": "2021-05-20T06:04:31.848317Z"
    }
   },
   "outputs": [
    {
     "name": "stdout",
     "output_type": "stream",
     "text": [
      "Model: \"sequential_2\"\n",
      "_________________________________________________________________\n",
      "Layer (type)                 Output Shape              Param #   \n",
      "=================================================================\n",
      "conv2d_6 (Conv2D)            (None, 150, 150, 64)      640       \n",
      "_________________________________________________________________\n",
      "dropout_2 (Dropout)          (None, 150, 150, 64)      0         \n",
      "_________________________________________________________________\n",
      "max_pooling2d_6 (MaxPooling2 (None, 75, 75, 64)        0         \n",
      "_________________________________________________________________\n",
      "conv2d_7 (Conv2D)            (None, 75, 75, 128)       73856     \n",
      "_________________________________________________________________\n",
      "max_pooling2d_7 (MaxPooling2 (None, 38, 38, 128)       0         \n",
      "_________________________________________________________________\n",
      "conv2d_8 (Conv2D)            (None, 38, 38, 128)       147584    \n",
      "_________________________________________________________________\n",
      "max_pooling2d_8 (MaxPooling2 (None, 19, 19, 128)       0         \n",
      "_________________________________________________________________\n",
      "conv2d_9 (Conv2D)            (None, 19, 19, 128)       147584    \n",
      "_________________________________________________________________\n",
      "max_pooling2d_9 (MaxPooling2 (None, 10, 10, 128)       0         \n",
      "_________________________________________________________________\n",
      "conv2d_10 (Conv2D)           (None, 10, 10, 128)       147584    \n",
      "_________________________________________________________________\n",
      "max_pooling2d_10 (MaxPooling (None, 5, 5, 128)         0         \n",
      "_________________________________________________________________\n",
      "flatten_2 (Flatten)          (None, 3200)              0         \n",
      "_________________________________________________________________\n",
      "dense_4 (Dense)              (None, 512)               1638912   \n",
      "_________________________________________________________________\n",
      "dense_5 (Dense)              (None, 2)                 1026      \n",
      "=================================================================\n",
      "Total params: 2,157,186\n",
      "Trainable params: 2,157,186\n",
      "Non-trainable params: 0\n",
      "_________________________________________________________________\n"
     ]
    }
   ],
   "source": [
    "def create_model(units=512, learning_rate=0.001):\n",
    "    model =Sequential()\n",
    "    model.add(Input(shape=(150,150,1)))\n",
    "    \n",
    "    model.add(Conv2D(filters=64, kernel_size=(3,3), padding='same', activation='relu'))\n",
    "    model.add(Dropout(0.1))\n",
    "    model.add(MaxPooling2D(pool_size=(2, 2), padding='same', strides=2))\n",
    "\n",
    "# Adding a third convolutional layer\n",
    "    model.add(Conv2D(filters=128, kernel_size=(3,3), padding='same', activation='relu'))\n",
    "    model.add(MaxPooling2D(pool_size=(2, 2), padding='same', strides=2))\n",
    "\n",
    "# Adding a fourth convolutional layer\n",
    "    model.add(Conv2D(filters=128, kernel_size=(3,3),  padding='same', activation='relu'))\n",
    "    model.add(MaxPooling2D(pool_size=(2, 2),  padding='same', strides=2))\n",
    "    \n",
    "    \n",
    "    model.add(Conv2D(filters= 128, kernel_size=(3,3), padding='same', activation='relu'))\n",
    "    model.add(MaxPooling2D(pool_size=(2, 2),  padding='same',strides=2))\n",
    "    \n",
    "    model.add(Conv2D(filters= 128, kernel_size=(3,3), padding='same', activation='relu'))\n",
    "    model.add(MaxPooling2D(pool_size=(2, 2),  padding='same',strides=2))\n",
    "\n",
    "                        \n",
    "    model.add(Flatten())\n",
    "    model.add(Dense(units=512, activation='relu'))\n",
    "    \n",
    "    model.add(Dense(2, activation='softmax'))\n",
    "    \n",
    "    optimizer = Adam(learning_rate=learning_rate)\n",
    "    model.compile(optimizer = optimizer, loss = 'categorical_crossentropy', metrics = ['accuracy'])\n",
    "    return model \n",
    "\n",
    "model1= create_model(units=512, learning_rate=0.001)\n",
    "model1.summary()"
   ]
  },
  {
   "cell_type": "code",
   "execution_count": 100,
   "metadata": {
    "execution": {
     "iopub.execute_input": "2021-05-20T06:04:45.417197Z",
     "iopub.status.busy": "2021-05-20T06:04:45.416817Z",
     "iopub.status.idle": "2021-05-20T06:06:15.275023Z",
     "shell.execute_reply": "2021-05-20T06:06:15.274040Z",
     "shell.execute_reply.started": "2021-05-20T06:04:45.417162Z"
    }
   },
   "outputs": [
    {
     "name": "stdout",
     "output_type": "stream",
     "text": [
      "Epoch 1/50\n",
      "34/34 [==============================] - 11s 300ms/step - loss: 0.6969 - accuracy: 0.5319 - val_loss: 0.6746 - val_accuracy: 0.5676\n",
      "Epoch 2/50\n",
      "34/34 [==============================] - 9s 253ms/step - loss: 0.6677 - accuracy: 0.5905 - val_loss: 0.6163 - val_accuracy: 0.7095\n",
      "Epoch 3/50\n",
      "34/34 [==============================] - 9s 254ms/step - loss: 0.5688 - accuracy: 0.7269 - val_loss: 0.5047 - val_accuracy: 0.7568\n",
      "Epoch 4/50\n",
      "34/34 [==============================] - 9s 254ms/step - loss: 0.5673 - accuracy: 0.7195 - val_loss: 0.4614 - val_accuracy: 0.7838\n",
      "Epoch 5/50\n",
      "34/34 [==============================] - 9s 255ms/step - loss: 0.4480 - accuracy: 0.7752 - val_loss: 0.6164 - val_accuracy: 0.6757\n",
      "Epoch 6/50\n",
      "34/34 [==============================] - 9s 254ms/step - loss: 0.5362 - accuracy: 0.7108 - val_loss: 0.4170 - val_accuracy: 0.8176\n",
      "Epoch 7/50\n",
      "34/34 [==============================] - 9s 256ms/step - loss: 0.4716 - accuracy: 0.7730 - val_loss: 0.3844 - val_accuracy: 0.8243\n",
      "Epoch 8/50\n",
      "34/34 [==============================] - 9s 256ms/step - loss: 0.4324 - accuracy: 0.7936 - val_loss: 0.4530 - val_accuracy: 0.7770\n",
      "Epoch 9/50\n",
      "34/34 [==============================] - 9s 255ms/step - loss: 0.5073 - accuracy: 0.7542 - val_loss: 0.4450 - val_accuracy: 0.7973\n",
      "Epoch 10/50\n",
      "34/34 [==============================] - 9s 253ms/step - loss: 0.3980 - accuracy: 0.8139 - val_loss: 0.3587 - val_accuracy: 0.8243\n"
     ]
    }
   ],
   "source": [
    "callbacks1=[ EarlyStopping(monitor='val_accuracy', patience=3,mode=\"auto\",verbose=0,restore_best_weights=True),\n",
    "            ModelCheckpoint(filepath='best_accuracy_binmen.hdf5', monitor='val_accuracy', verbose=0, mode='max',save_best_only=True)]\n",
    "\n",
    "history1= model1.fit_generator(data_augmentation1.flow(X1_train,y1_train,batch_size=40), callbacks=callbacks1,\n",
    "                    epochs = 50, validation_data=(X1_val,y1_val))"
   ]
  },
  {
   "cell_type": "code",
   "execution_count": 103,
   "metadata": {
    "execution": {
     "iopub.execute_input": "2021-05-20T06:06:34.548891Z",
     "iopub.status.busy": "2021-05-20T06:06:34.548577Z",
     "iopub.status.idle": "2021-05-20T06:06:34.847733Z",
     "shell.execute_reply": "2021-05-20T06:06:34.846896Z",
     "shell.execute_reply.started": "2021-05-20T06:06:34.548860Z"
    }
   },
   "outputs": [
    {
     "data": {
      "image/png": "[encoded data removed]",
      "text/plain": [
       "<Figure size 1440x432 with 2 Axes>"
      ]
     },
     "metadata": {
      "needs_background": "light"
     },
     "output_type": "display_data"
    }
   ],
   "source": [
    "def plot(hist='history_num'):\n",
    "    train_loss = hist.history['loss']\n",
    "    val_loss =hist.history['val_loss']\n",
    "\n",
    "    eff_epochs = len(hist.history['loss'])\n",
    "    epochs_range = range(eff_epochs)\n",
    "\n",
    "    plt.figure(figsize=(20, 6))\n",
    "    plt.subplot(1, 2, 1)\n",
    "    plt.plot(train_loss, label='Training Loss')\n",
    "    plt.plot(val_loss, label='Validation Loss')\n",
    "    plt.xticks(epochs_range)\n",
    "    plt.ylabel('loss')\n",
    "    plt.xlabel('epoch')\n",
    "    plt.title('Loss')\n",
    "    plt.legend()\n",
    "\n",
    "    train_acc = hist.history['accuracy']\n",
    "    val_acc = hist.history['val_accuracy']\n",
    "    plt.subplot(1, 2, 2)\n",
    "    plt.plot(train_acc, label='Training Accuracy')\n",
    "    plt.plot(val_acc, label='Validation Accuracy')\n",
    "\n",
    "    plt.ylabel('accuracy')\n",
    "    plt.xlabel('epoch')\n",
    "    plt.xticks(epochs_range)\n",
    "    plt.title('Accuracy')\n",
    "    plt.legend()\n",
    "    plt.show()\n",
    "\n",
    "\n",
    "plot(history1)"
   ]
  },
  {
   "cell_type": "code",
   "execution_count": 102,
   "metadata": {
    "execution": {
     "iopub.execute_input": "2021-05-20T06:06:27.313770Z",
     "iopub.status.busy": "2021-05-20T06:06:27.313456Z",
     "iopub.status.idle": "2021-05-20T06:06:28.463415Z",
     "shell.execute_reply": "2021-05-20T06:06:28.462621Z",
     "shell.execute_reply.started": "2021-05-20T06:06:27.313740Z"
    }
   },
   "outputs": [
    {
     "name": "stdout",
     "output_type": "stream",
     "text": [
      "6/6 [==============================] - 1s 183ms/step - loss: 0.3787 - accuracy: 0.8061\n"
     ]
    }
   ],
   "source": [
    "test_loss, test_acc = model1.evaluate(X1_test,y1_test)"
   ]
  },
  {
   "cell_type": "code",
   "execution_count": 104,
   "metadata": {
    "execution": {
     "iopub.execute_input": "2021-05-20T06:06:49.779188Z",
     "iopub.status.busy": "2021-05-20T06:06:49.778810Z",
     "iopub.status.idle": "2021-05-20T06:06:49.811314Z",
     "shell.execute_reply": "2021-05-20T06:06:49.810479Z",
     "shell.execute_reply.started": "2021-05-20T06:06:49.779155Z"
    }
   },
   "outputs": [],
   "source": [
    "model1.save_weights('model_bin_men_weights.h5')\n",
    "model1.save('model_bin_men.h5')"
   ]
  },
  {
   "cell_type": "markdown",
   "metadata": {},
   "source": [
    "# **GLIOMA BINARY DATA SET**"
   ]
  },
  {
   "cell_type": "markdown",
   "metadata": {},
   "source": [
    "## **CREATING GLIOMA BINARY DATA SET**"
   ]
  },
  {
   "cell_type": "code",
   "execution_count": 107,
   "metadata": {
    "execution": {
     "iopub.execute_input": "2021-05-20T06:07:09.186726Z",
     "iopub.status.busy": "2021-05-20T06:07:09.186405Z",
     "iopub.status.idle": "2021-05-20T06:07:09.190840Z",
     "shell.execute_reply": "2021-05-20T06:07:09.189557Z",
     "shell.execute_reply.started": "2021-05-20T06:07:09.186694Z"
    }
   },
   "outputs": [],
   "source": [
    "path_glioma = '/kaggle/working/Bin/glioma'"
   ]
  },
  {
   "cell_type": "code",
   "execution_count": 108,
   "metadata": {
    "execution": {
     "iopub.execute_input": "2021-05-20T06:07:12.718690Z",
     "iopub.status.busy": "2021-05-20T06:07:12.718350Z",
     "iopub.status.idle": "2021-05-20T06:07:12.724871Z",
     "shell.execute_reply": "2021-05-20T06:07:12.723976Z",
     "shell.execute_reply.started": "2021-05-20T06:07:12.718656Z"
    }
   },
   "outputs": [
    {
     "data": {
      "text/plain": [
       "['glioma', 'non_glioma']"
      ]
     },
     "execution_count": 108,
     "metadata": {},
     "output_type": "execute_result"
    }
   ],
   "source": [
    "os.listdir(path_glioma)"
   ]
  },
  {
   "cell_type": "code",
   "execution_count": 109,
   "metadata": {
    "execution": {
     "iopub.execute_input": "2021-05-20T06:07:18.913260Z",
     "iopub.status.busy": "2021-05-20T06:07:18.912896Z",
     "iopub.status.idle": "2021-05-20T06:07:19.317269Z",
     "shell.execute_reply": "2021-05-20T06:07:19.316225Z",
     "shell.execute_reply.started": "2021-05-20T06:07:18.913228Z"
    }
   },
   "outputs": [],
   "source": [
    "for g in random.sample(os.listdir(pituitary_dir),413):\n",
    "    g_path= os.path.join(pituitary_dir,g)\n",
    "    shutil.copy(g_path, os.path.join(path_glioma,'non_glioma'))"
   ]
  },
  {
   "cell_type": "code",
   "execution_count": 110,
   "metadata": {
    "execution": {
     "iopub.execute_input": "2021-05-20T06:07:23.403867Z",
     "iopub.status.busy": "2021-05-20T06:07:23.403550Z",
     "iopub.status.idle": "2021-05-20T06:07:23.795928Z",
     "shell.execute_reply": "2021-05-20T06:07:23.795071Z",
     "shell.execute_reply.started": "2021-05-20T06:07:23.403836Z"
    }
   },
   "outputs": [],
   "source": [
    "for m in random.sample(os.listdir(meningioma_dir),413):\n",
    "    m_path= os.path.join(meningioma_dir,m)\n",
    "    shutil.copy(m_path, os.path.join(path_glioma,'non_glioma'))"
   ]
  },
  {
   "cell_type": "code",
   "execution_count": 111,
   "metadata": {
    "execution": {
     "iopub.execute_input": "2021-05-20T06:07:29.746854Z",
     "iopub.status.busy": "2021-05-20T06:07:29.746530Z",
     "iopub.status.idle": "2021-05-20T06:07:30.556212Z",
     "shell.execute_reply": "2021-05-20T06:07:30.555266Z",
     "shell.execute_reply.started": "2021-05-20T06:07:29.746823Z"
    }
   },
   "outputs": [],
   "source": [
    "for p in os.listdir(glioma_dir):\n",
    "    p_path= os.path.join(glioma_dir,p)\n",
    "    shutil.copy(p_path, os.path.join(path_glioma,'glioma'))"
   ]
  },
  {
   "cell_type": "code",
   "execution_count": 113,
   "metadata": {
    "execution": {
     "iopub.execute_input": "2021-05-20T06:08:42.024226Z",
     "iopub.status.busy": "2021-05-20T06:08:42.023867Z",
     "iopub.status.idle": "2021-05-20T06:08:42.032756Z",
     "shell.execute_reply": "2021-05-20T06:08:42.031815Z",
     "shell.execute_reply.started": "2021-05-20T06:08:42.024194Z"
    }
   },
   "outputs": [
    {
     "name": "stdout",
     "output_type": "stream",
     "text": [
      "826\n",
      "826\n"
     ]
    }
   ],
   "source": [
    "print(len(os.listdir(os.path.join(path_glioma,'non_glioma'))))\n",
    "print(len(os.listdir(os.path.join(path_glioma,'glioma'))))"
   ]
  },
  {
   "cell_type": "code",
   "execution_count": 114,
   "metadata": {
    "execution": {
     "iopub.execute_input": "2021-05-20T06:09:04.832242Z",
     "iopub.status.busy": "2021-05-20T06:09:04.831870Z",
     "iopub.status.idle": "2021-05-20T06:09:06.661148Z",
     "shell.execute_reply": "2021-05-20T06:09:06.660226Z",
     "shell.execute_reply.started": "2021-05-20T06:09:04.832209Z"
    }
   },
   "outputs": [
    {
     "name": "stdout",
     "output_type": "stream",
     "text": [
      "(1652, 150, 150)\n",
      "(1652, 150, 150, 1)\n"
     ]
    }
   ],
   "source": [
    "path_m= path_glioma\n",
    "image_size= 150\n",
    "X3=[]\n",
    "y3=[]\n",
    "for folder in os.listdir(path_m):\n",
    "    for subfolder in os.listdir(os.path.join(path_m,folder)):\n",
    "        y3.append(folder)\n",
    "        img = cv2.imread(os.path.join(path_m,folder,subfolder), cv2.IMREAD_GRAYSCALE)\n",
    "        im =  cv2.resize(img,(image_size,image_size))\n",
    "        im.reshape(-1,image_size,image_size)\n",
    "        X3.append(im)\n",
    "X_arr=np.array(X3).reshape(-1,image_size,image_size)\n",
    "y_arr=np.array(y3)\n",
    "print(X_arr.shape)\n",
    "X_arr=X_arr/255.\n",
    "X3= X_arr.reshape(-1,image_size,image_size,1)\n",
    "print(X3.shape)\n",
    "enc=LabelEncoder()\n",
    "y3= enc.fit_transform(y_arr)\n",
    "y3=to_categorical(y3,2)"
   ]
  },
  {
   "cell_type": "code",
   "execution_count": 115,
   "metadata": {
    "execution": {
     "iopub.execute_input": "2021-05-20T06:09:10.025860Z",
     "iopub.status.busy": "2021-05-20T06:09:10.025562Z",
     "iopub.status.idle": "2021-05-20T06:09:10.212492Z",
     "shell.execute_reply": "2021-05-20T06:09:10.211536Z",
     "shell.execute_reply.started": "2021-05-20T06:09:10.025832Z"
    }
   },
   "outputs": [
    {
     "data": {
      "text/plain": [
       "(1337, 150, 150, 1)"
      ]
     },
     "execution_count": 115,
     "metadata": {},
     "output_type": "execute_result"
    }
   ],
   "source": [
    "X3_train , X3_test, y3_train, y3_test = train_test_split(X3 , y3 , test_size = 0.1, random_state = 42)\n",
    "X3_train , X3_val, y3_train, y3_val = train_test_split(X3_train , y3_train , test_size = 0.1, random_state = 42)\n",
    "X3_train.shape"
   ]
  },
  {
   "cell_type": "code",
   "execution_count": 116,
   "metadata": {
    "execution": {
     "iopub.execute_input": "2021-05-20T06:09:13.508292Z",
     "iopub.status.busy": "2021-05-20T06:09:13.507950Z",
     "iopub.status.idle": "2021-05-20T06:09:13.513097Z",
     "shell.execute_reply": "2021-05-20T06:09:13.512309Z",
     "shell.execute_reply.started": "2021-05-20T06:09:13.508262Z"
    }
   },
   "outputs": [
    {
     "data": {
      "text/plain": [
       "1652"
      ]
     },
     "execution_count": 116,
     "metadata": {},
     "output_type": "execute_result"
    }
   ],
   "source": [
    "len(X3_train) + len(X3_test)+ len(X3_val)"
   ]
  },
  {
   "cell_type": "markdown",
   "metadata": {},
   "source": [
    "## **BEST MODEL FOR GLIOMA BINARY DATA SET**"
   ]
  },
  {
   "cell_type": "code",
   "execution_count": 117,
   "metadata": {
    "execution": {
     "iopub.execute_input": "2021-05-20T06:09:20.445717Z",
     "iopub.status.busy": "2021-05-20T06:09:20.445401Z",
     "iopub.status.idle": "2021-05-20T06:09:20.542305Z",
     "shell.execute_reply": "2021-05-20T06:09:20.541414Z",
     "shell.execute_reply.started": "2021-05-20T06:09:20.445689Z"
    }
   },
   "outputs": [],
   "source": [
    "data_augmentation3 = ImageDataGenerator(shear_range = 0.1,\n",
    "                                       zoom_range = 0.2, \n",
    "                                       width_shift_range=0.10,\n",
    "                                       height_shift_range=0.10,\n",
    "                                       horizontal_flip = True,\n",
    "                                       rotation_range=20,\n",
    "                                       fill_mode='nearest')\n",
    "data_augmentation3.fit(X3_train)"
   ]
  },
  {
   "cell_type": "code",
   "execution_count": 118,
   "metadata": {
    "execution": {
     "iopub.execute_input": "2021-05-20T06:09:45.031738Z",
     "iopub.status.busy": "2021-05-20T06:09:45.031428Z",
     "iopub.status.idle": "2021-05-20T06:10:36.983834Z",
     "shell.execute_reply": "2021-05-20T06:10:36.983033Z",
     "shell.execute_reply.started": "2021-05-20T06:09:45.031709Z"
    }
   },
   "outputs": [
    {
     "name": "stdout",
     "output_type": "stream",
     "text": [
      "Epoch 1/50\n",
      "34/34 [==============================] - 9s 242ms/step - loss: 0.8039 - accuracy: 0.5586 - val_loss: 0.6548 - val_accuracy: 0.5503\n",
      "Epoch 2/50\n",
      "34/34 [==============================] - 8s 236ms/step - loss: 0.6428 - accuracy: 0.6324 - val_loss: 0.5726 - val_accuracy: 0.6980\n",
      "Epoch 3/50\n",
      "34/34 [==============================] - 8s 237ms/step - loss: 0.6083 - accuracy: 0.6650 - val_loss: 0.5458 - val_accuracy: 0.7248\n",
      "Epoch 4/50\n",
      "34/34 [==============================] - 8s 236ms/step - loss: 0.5692 - accuracy: 0.7243 - val_loss: 0.6332 - val_accuracy: 0.6376\n",
      "Epoch 5/50\n",
      "34/34 [==============================] - 8s 236ms/step - loss: 0.5864 - accuracy: 0.6886 - val_loss: 0.4826 - val_accuracy: 0.7114\n",
      "Epoch 6/50\n",
      "34/34 [==============================] - 8s 236ms/step - loss: 0.5448 - accuracy: 0.7147 - val_loss: 0.4879 - val_accuracy: 0.7181\n"
     ]
    }
   ],
   "source": [
    "def create_model(units=512, learning_rate=0.001):\n",
    "    model =Sequential()\n",
    "    model.add(Input(shape=(150,150,1)))\n",
    "    \n",
    "    model.add(Conv2D(filters=64, kernel_size=(3,3), padding='same', activation='relu'))\n",
    "    model.add(Dropout(0.1))\n",
    "    model.add(MaxPooling2D(pool_size=(2, 2),padding='same',  strides=2))\n",
    "\n",
    "# Adding a third convolutional layer\n",
    "    model.add(Conv2D(filters=128, kernel_size=(3,3),padding='same',  activation='relu'))\n",
    "    model.add(MaxPooling2D(pool_size=(2, 2), padding='same', strides=2))\n",
    "\n",
    "# Adding a fourth convolutional layer\n",
    "    model.add(Conv2D(filters=128, kernel_size=(3,3), padding='same', activation='relu'))\n",
    "    model.add(MaxPooling2D(pool_size=(2, 2),padding='same', strides=2))\n",
    "                        \n",
    "    model.add(Flatten())\n",
    "    model.add(Dense(units=units, activation='relu'))\n",
    "    \n",
    "    model.add(Dense(units=2, activation='softmax'))\n",
    "    \n",
    "    optimizer = Adam(learning_rate=learning_rate)\n",
    "    model.compile(optimizer = optimizer, loss = 'categorical_crossentropy', metrics = ['accuracy'])\n",
    "    return model   \n",
    "\n",
    "model_gl= create_model(units=512, learning_rate=0.001)\n",
    "\n",
    "callbacks_gl=[ EarlyStopping(monitor='val_accuracy', patience=3,mode=\"auto\",verbose=0,restore_best_weights=True),\n",
    "            ModelCheckpoint(filepath='best_accuracy_bin_gl.hdf5', monitor='val_accuracy', verbose=0, mode='max',save_best_only=True)]\n",
    "\n",
    "history_gl= model_gl.fit_generator(data_augmentation3.flow(X3_train,y3_train,batch_size=40), callbacks=callbacks_gl,\n",
    "                    epochs = 50, validation_data=(X3_val,y3_val))"
   ]
  },
  {
   "cell_type": "code",
   "execution_count": 119,
   "metadata": {
    "execution": {
     "iopub.execute_input": "2021-05-20T06:10:58.429674Z",
     "iopub.status.busy": "2021-05-20T06:10:58.429363Z",
     "iopub.status.idle": "2021-05-20T06:10:59.278084Z",
     "shell.execute_reply": "2021-05-20T06:10:59.277201Z",
     "shell.execute_reply.started": "2021-05-20T06:10:58.429644Z"
    }
   },
   "outputs": [
    {
     "name": "stdout",
     "output_type": "stream",
     "text": [
      "6/6 [==============================] - 1s 127ms/step - loss: 0.5433 - accuracy: 0.7289\n"
     ]
    }
   ],
   "source": [
    "test_loss, test_acc = model_gl.evaluate(X3_test,y3_test)"
   ]
  },
  {
   "cell_type": "code",
   "execution_count": 120,
   "metadata": {
    "execution": {
     "iopub.execute_input": "2021-05-20T06:11:10.546432Z",
     "iopub.status.busy": "2021-05-20T06:11:10.546092Z",
     "iopub.status.idle": "2021-05-20T06:11:10.810589Z",
     "shell.execute_reply": "2021-05-20T06:11:10.809776Z",
     "shell.execute_reply.started": "2021-05-20T06:11:10.546376Z"
    }
   },
   "outputs": [
    {
     "data": {
      "image/png": "[encoded data removed]",
      "text/plain": [
       "<Figure size 1440x432 with 2 Axes>"
      ]
     },
     "metadata": {
      "needs_background": "light"
     },
     "output_type": "display_data"
    }
   ],
   "source": [
    "plot(history_gl)"
   ]
  },
  {
   "cell_type": "code",
   "execution_count": 121,
   "metadata": {
    "execution": {
     "iopub.execute_input": "2021-05-20T06:11:33.667923Z",
     "iopub.status.busy": "2021-05-20T06:11:33.667597Z",
     "iopub.status.idle": "2021-05-20T06:11:34.798724Z",
     "shell.execute_reply": "2021-05-20T06:11:34.797664Z",
     "shell.execute_reply.started": "2021-05-20T06:11:33.667884Z"
    }
   },
   "outputs": [],
   "source": [
    "model_gl.save('model_bin_gl.h5')\n",
    "model_gl.save_weights('model_bin_gl_weights.h5')"
   ]
  },
  {
   "cell_type": "markdown",
   "metadata": {},
   "source": [
    "# **PITUITARY BINARY DATA SET**"
   ]
  },
  {
   "cell_type": "markdown",
   "metadata": {},
   "source": [
    "## **CREATING PITUITARY BINARY DATA SET**"
   ]
  },
  {
   "cell_type": "code",
   "execution_count": 126,
   "metadata": {
    "execution": {
     "iopub.execute_input": "2021-05-20T06:13:27.369490Z",
     "iopub.status.busy": "2021-05-20T06:13:27.369181Z",
     "iopub.status.idle": "2021-05-20T06:13:27.375875Z",
     "shell.execute_reply": "2021-05-20T06:13:27.374968Z",
     "shell.execute_reply.started": "2021-05-20T06:13:27.369460Z"
    }
   },
   "outputs": [
    {
     "data": {
      "text/plain": [
       "['pituitary', 'non_pituitary']"
      ]
     },
     "execution_count": 126,
     "metadata": {},
     "output_type": "execute_result"
    }
   ],
   "source": [
    "path_pituitary = '/kaggle/working/Bin/pituitary'\n",
    "os.listdir(path_pituitary)"
   ]
  },
  {
   "cell_type": "code",
   "execution_count": 127,
   "metadata": {
    "execution": {
     "iopub.execute_input": "2021-05-20T06:13:34.748331Z",
     "iopub.status.busy": "2021-05-20T06:13:34.748013Z",
     "iopub.status.idle": "2021-05-20T06:13:35.567652Z",
     "shell.execute_reply": "2021-05-20T06:13:35.566844Z",
     "shell.execute_reply.started": "2021-05-20T06:13:34.748299Z"
    }
   },
   "outputs": [
    {
     "data": {
      "text/plain": [
       "826"
      ]
     },
     "execution_count": 127,
     "metadata": {},
     "output_type": "execute_result"
    }
   ],
   "source": [
    "for g in random.sample(os.listdir(glioma_dir),413):\n",
    "    g_path= os.path.join(glioma_dir,g)\n",
    "    shutil.copy(g_path, os.path.join(path_pituitary,'non_pituitary'))\n",
    "\n",
    "for m in random.sample(os.listdir(meningioma_dir),413):\n",
    "    m_path= os.path.join(meningioma_dir,m)\n",
    "    shutil.copy(m_path, os.path.join(path_pituitary,'non_pituitary'))\n",
    "    \n",
    "len(os.listdir(os.path.join(path_pituitary,'non_pituitary')))"
   ]
  },
  {
   "cell_type": "code",
   "execution_count": 128,
   "metadata": {
    "execution": {
     "iopub.execute_input": "2021-05-20T06:13:38.803157Z",
     "iopub.status.busy": "2021-05-20T06:13:38.802814Z",
     "iopub.status.idle": "2021-05-20T06:13:39.553556Z",
     "shell.execute_reply": "2021-05-20T06:13:39.552764Z",
     "shell.execute_reply.started": "2021-05-20T06:13:38.803125Z"
    }
   },
   "outputs": [
    {
     "data": {
      "text/plain": [
       "827"
      ]
     },
     "execution_count": 128,
     "metadata": {},
     "output_type": "execute_result"
    }
   ],
   "source": [
    "for p in os.listdir(pituitary_dir):\n",
    "    p_path= os.path.join(pituitary_dir,p)\n",
    "    shutil.copy(p_path, os.path.join(path_pituitary,'pituitary'))\n",
    "    \n",
    "len(os.listdir(os.path.join(path_pituitary,'pituitary')))"
   ]
  },
  {
   "cell_type": "code",
   "execution_count": 137,
   "metadata": {
    "execution": {
     "iopub.execute_input": "2021-05-20T06:18:21.924051Z",
     "iopub.status.busy": "2021-05-20T06:18:21.923680Z",
     "iopub.status.idle": "2021-05-20T06:18:23.849393Z",
     "shell.execute_reply": "2021-05-20T06:18:23.848494Z",
     "shell.execute_reply.started": "2021-05-20T06:18:21.924010Z"
    }
   },
   "outputs": [
    {
     "name": "stdout",
     "output_type": "stream",
     "text": [
      "(1653, 150, 150)\n",
      "(1653, 150, 150, 1)\n"
     ]
    }
   ],
   "source": [
    "path_m= path_pituitary\n",
    "image_size= 150\n",
    "X2=[]\n",
    "y2=[]\n",
    "for folder in os.listdir(path_m):\n",
    "    for subfolder in os.listdir(os.path.join(path_m,folder)):\n",
    "        y2.append(folder)\n",
    "        img = cv2.imread(os.path.join(path_m,folder,subfolder), cv2.IMREAD_GRAYSCALE)\n",
    "        im =  cv2.resize(img,(image_size,image_size))\n",
    "        im.reshape(-1,image_size,image_size)\n",
    "        X2.append(im)\n",
    "X_arr=np.array(X2).reshape(-1,image_size,image_size)\n",
    "y_arr=np.array(y2)\n",
    "print(X_arr.shape)\n",
    "X_arr=X_arr/255.\n",
    "X2= X_arr.reshape(-1,image_size,image_size,1)\n",
    "print(X2.shape)\n",
    "enc=LabelEncoder()\n",
    "y2= enc.fit_transform(y_arr)\n",
    "y2=to_categorical(y2,2)"
   ]
  },
  {
   "cell_type": "code",
   "execution_count": 138,
   "metadata": {
    "execution": {
     "iopub.execute_input": "2021-05-20T06:18:26.448200Z",
     "iopub.status.busy": "2021-05-20T06:18:26.447835Z",
     "iopub.status.idle": "2021-05-20T06:18:26.714689Z",
     "shell.execute_reply": "2021-05-20T06:18:26.713734Z",
     "shell.execute_reply.started": "2021-05-20T06:18:26.448168Z"
    }
   },
   "outputs": [
    {
     "data": {
      "text/plain": [
       "(1338, 150, 150, 1)"
      ]
     },
     "execution_count": 138,
     "metadata": {},
     "output_type": "execute_result"
    }
   ],
   "source": [
    "X2_train , X2_test, y2_train, y2_test = train_test_split(X2 , y2 , test_size = 0.1, random_state = 42)\n",
    "X2_train , X2_val, y2_train, y2_val = train_test_split(X2_train , y2_train , test_size = 0.1, random_state = 42)\n",
    "X2_train.shape"
   ]
  },
  {
   "cell_type": "markdown",
   "metadata": {},
   "source": [
    "## **BEST MODEL FOR PITUITARY BINARY DATA SET**"
   ]
  },
  {
   "cell_type": "code",
   "execution_count": 139,
   "metadata": {
    "execution": {
     "iopub.execute_input": "2021-05-20T06:18:30.917137Z",
     "iopub.status.busy": "2021-05-20T06:18:30.916797Z",
     "iopub.status.idle": "2021-05-20T06:18:31.017273Z",
     "shell.execute_reply": "2021-05-20T06:18:31.016381Z",
     "shell.execute_reply.started": "2021-05-20T06:18:30.917105Z"
    }
   },
   "outputs": [],
   "source": [
    "data_augmentation2 = ImageDataGenerator(shear_range = 0.1,\n",
    "                                       zoom_range = 0.2, \n",
    "                                       width_shift_range=0.10,\n",
    "                                       height_shift_range=0.10,\n",
    "                                       horizontal_flip = True,\n",
    "                                       rotation_range=20,\n",
    "                                       fill_mode='nearest')\n",
    "data_augmentation2.fit(X2_train)"
   ]
  },
  {
   "cell_type": "code",
   "execution_count": 140,
   "metadata": {
    "execution": {
     "iopub.execute_input": "2021-05-20T06:19:27.384945Z",
     "iopub.status.busy": "2021-05-20T06:19:27.384638Z",
     "iopub.status.idle": "2021-05-20T06:20:18.678858Z",
     "shell.execute_reply": "2021-05-20T06:20:18.678051Z",
     "shell.execute_reply.started": "2021-05-20T06:19:27.384915Z"
    }
   },
   "outputs": [
    {
     "name": "stdout",
     "output_type": "stream",
     "text": [
      "Epoch 1/50\n",
      "34/34 [==============================] - 9s 242ms/step - loss: 0.8090 - accuracy: 0.6481 - val_loss: 0.4240 - val_accuracy: 0.8591\n",
      "Epoch 2/50\n",
      "34/34 [==============================] - 8s 237ms/step - loss: 0.5236 - accuracy: 0.7347 - val_loss: 0.4974 - val_accuracy: 0.7584\n",
      "Epoch 3/50\n",
      "34/34 [==============================] - 8s 236ms/step - loss: 0.5069 - accuracy: 0.7653 - val_loss: 0.4090 - val_accuracy: 0.8926\n",
      "Epoch 4/50\n",
      "34/34 [==============================] - 8s 238ms/step - loss: 0.4508 - accuracy: 0.7979 - val_loss: 0.4332 - val_accuracy: 0.8456\n",
      "Epoch 5/50\n",
      "34/34 [==============================] - 8s 235ms/step - loss: 0.4411 - accuracy: 0.8058 - val_loss: 0.3550 - val_accuracy: 0.8792\n",
      "Epoch 6/50\n",
      "34/34 [==============================] - 8s 237ms/step - loss: 0.4082 - accuracy: 0.8175 - val_loss: 0.3361 - val_accuracy: 0.8725\n"
     ]
    }
   ],
   "source": [
    "def create_model(units=512, learning_rate=0.001):\n",
    "    model =Sequential()\n",
    "    model.add(Input(shape=(150,150,1)))\n",
    "    \n",
    "    model.add(Conv2D(filters=64, kernel_size=(3,3), padding='same', activation='relu'))\n",
    "    model.add(Dropout(0.1))\n",
    "    model.add(MaxPooling2D(pool_size=(2, 2),padding='same',  strides=2))\n",
    "\n",
    "# Adding a third convolutional layer\n",
    "    model.add(Conv2D(filters=128, kernel_size=(3,3),padding='same',  activation='relu'))\n",
    "    model.add(MaxPooling2D(pool_size=(2, 2), padding='same', strides=2))\n",
    "\n",
    "# Adding a fourth convolutional layer\n",
    "    model.add(Conv2D(filters=128, kernel_size=(3,3), padding='same', activation='relu'))\n",
    "    model.add(MaxPooling2D(pool_size=(2, 2),padding='same', strides=2))\n",
    "                        \n",
    "    model.add(Flatten())\n",
    "    model.add(Dense(units=units, activation='relu'))\n",
    "    \n",
    "    model.add(Dense(units=2, activation='softmax'))\n",
    "    \n",
    "    optimizer = Adam(learning_rate=learning_rate)\n",
    "    model.compile(optimizer = optimizer, loss = 'categorical_crossentropy', metrics = ['accuracy'])\n",
    "    return model   \n",
    "\n",
    "model_pt_2= create_model(units=512, learning_rate=0.001)\n",
    "\n",
    "callbacks_pt_2=[ EarlyStopping(monitor='val_accuracy', patience=3,mode=\"auto\",verbose=0,restore_best_weights=True),\n",
    "            ModelCheckpoint(filepath='best_accuracy_bin_pt_2.hdf5', monitor='val_accuracy', verbose=0, mode='max',save_best_only=True)]\n",
    "\n",
    "history_pt_2= model_pt_2.fit_generator(data_augmentation2.flow(X2_train,y2_train,batch_size=40), callbacks=callbacks_pt_2,\n",
    "                    epochs = 50, validation_data=(X2_val,y2_val))"
   ]
  },
  {
   "cell_type": "code",
   "execution_count": 141,
   "metadata": {
    "execution": {
     "iopub.execute_input": "2021-05-20T06:20:39.659765Z",
     "iopub.status.busy": "2021-05-20T06:20:39.659451Z",
     "iopub.status.idle": "2021-05-20T06:20:40.532097Z",
     "shell.execute_reply": "2021-05-20T06:20:40.531318Z",
     "shell.execute_reply.started": "2021-05-20T06:20:39.659737Z"
    }
   },
   "outputs": [
    {
     "name": "stdout",
     "output_type": "stream",
     "text": [
      "6/6 [==============================] - 1s 130ms/step - loss: 0.4204 - accuracy: 0.8675\n"
     ]
    }
   ],
   "source": [
    "test_loss, test_acc = model_pt_2.evaluate(X2_test,y2_test)"
   ]
  },
  {
   "cell_type": "code",
   "execution_count": 142,
   "metadata": {
    "execution": {
     "iopub.execute_input": "2021-05-20T06:20:46.875197Z",
     "iopub.status.busy": "2021-05-20T06:20:46.874849Z",
     "iopub.status.idle": "2021-05-20T06:20:47.164150Z",
     "shell.execute_reply": "2021-05-20T06:20:47.163232Z",
     "shell.execute_reply.started": "2021-05-20T06:20:46.875165Z"
    }
   },
   "outputs": [
    {
     "data": {
      "image/png": "[encoded data removed]",
      "text/plain": [
       "<Figure size 1440x432 with 2 Axes>"
      ]
     },
     "metadata": {
      "needs_background": "light"
     },
     "output_type": "display_data"
    }
   ],
   "source": [
    "plot(history_pt_2)"
   ]
  },
  {
   "cell_type": "code",
   "execution_count": 143,
   "metadata": {
    "execution": {
     "iopub.execute_input": "2021-05-20T06:20:52.988409Z",
     "iopub.status.busy": "2021-05-20T06:20:52.988086Z",
     "iopub.status.idle": "2021-05-20T06:20:54.016471Z",
     "shell.execute_reply": "2021-05-20T06:20:54.015418Z",
     "shell.execute_reply.started": "2021-05-20T06:20:52.988379Z"
    }
   },
   "outputs": [],
   "source": [
    "model_pt_2.save('model_bin_pt_2.h5')\n",
    "model_pt_2.save_weights('model_bin_pt_2_weights.h5')"
   ]
  }
 ],
 "metadata": {
  "kernelspec": {
   "display_name": "Python 3",
   "language": "python",
   "name": "python3"
  },
  "language_info": {
   "codemirror_mode": {
    "name": "ipython",
    "version": 3
   },
   "file_extension": ".py",
   "mimetype": "text/x-python",
   "name": "python",
   "nbconvert_exporter": "python",
   "pygments_lexer": "ipython3",
   "version": "3.7.3"
  },
  "toc": {
   "base_numbering": 1,
   "nav_menu": {},
   "number_sections": true,
   "sideBar": true,
   "skip_h1_title": false,
   "title_cell": "Table of Contents",
   "title_sidebar": "Contents",
   "toc_cell": false,
   "toc_position": {
    "height": "calc(100% - 180px)",
    "left": "10px",
    "top": "150px",
    "width": "480.488px"
   },
   "toc_section_display": true,
   "toc_window_display": true
  }
 },
 "nbformat": 4,
 "nbformat_minor": 4
}
